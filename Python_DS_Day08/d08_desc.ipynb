{
  "nbformat": 4,
  "nbformat_minor": 0,
  "metadata": {
    "colab": {
      "name": "d08_desc.ipynb",
      "provenance": [],
      "collapsed_sections": []
    },
    "kernelspec": {
      "name": "python3",
      "display_name": "Python 3"
    },
    "language_info": {
      "name": "python"
    },
    "accelerator": "GPU"
  },
  "cells": [
    {
      "cell_type": "markdown",
      "source": [
        "Прежде всего установим библиотеки, которые понадобятся нам для работы с нейронками:\n",
        "\n",
        "keras - высокоуровневый фреймворк работы с нейронными сетями. Пожалуй, он имеет самый низкий порог входа среди всех библиотек подобного рода, поэтому для нашего курса выбран именно он\n",
        "tensorflow - это одна из библиотек \"бэкэнда\" нейронных сетей. Это то, что keras будет использовать у себя \"под капотом\""
      ],
      "metadata": {
        "id": "gfmHw8HG0Jbm"
      }
    },
    {
      "cell_type": "code",
      "execution_count": 1,
      "metadata": {
        "colab": {
          "base_uri": "https://localhost:8080/"
        },
        "id": "qF61u6m-8j4V",
        "outputId": "d4be5c2e-b7cd-49ee-89d8-c36ea96cd44b"
      },
      "outputs": [
        {
          "output_type": "stream",
          "name": "stdout",
          "text": [
            "Requirement already satisfied: keras in /usr/local/lib/python3.7/dist-packages (2.8.0)\n"
          ]
        }
      ],
      "source": [
        "!pip install keras"
      ]
    },
    {
      "cell_type": "code",
      "source": [
        "!pip install tensorflow"
      ],
      "metadata": {
        "colab": {
          "base_uri": "https://localhost:8080/"
        },
        "id": "HbTTdK3YENwO",
        "outputId": "84002951-75b4-499e-864c-801eec160447"
      },
      "execution_count": 2,
      "outputs": [
        {
          "output_type": "stream",
          "name": "stdout",
          "text": [
            "Requirement already satisfied: tensorflow in /usr/local/lib/python3.7/dist-packages (2.8.0)\n",
            "Collecting tf-estimator-nightly==2.8.0.dev2021122109\n",
            "  Downloading tf_estimator_nightly-2.8.0.dev2021122109-py2.py3-none-any.whl (462 kB)\n",
            "\u001b[K     |████████████████████████████████| 462 kB 5.3 MB/s \n",
            "\u001b[?25hRequirement already satisfied: google-pasta>=0.1.1 in /usr/local/lib/python3.7/dist-packages (from tensorflow) (0.2.0)\n",
            "Requirement already satisfied: libclang>=9.0.1 in /usr/local/lib/python3.7/dist-packages (from tensorflow) (13.0.0)\n",
            "Requirement already satisfied: flatbuffers>=1.12 in /usr/local/lib/python3.7/dist-packages (from tensorflow) (2.0)\n",
            "Requirement already satisfied: gast>=0.2.1 in /usr/local/lib/python3.7/dist-packages (from tensorflow) (0.5.3)\n",
            "Requirement already satisfied: tensorboard<2.9,>=2.8 in /usr/local/lib/python3.7/dist-packages (from tensorflow) (2.8.0)\n",
            "Requirement already satisfied: termcolor>=1.1.0 in /usr/local/lib/python3.7/dist-packages (from tensorflow) (1.1.0)\n",
            "Requirement already satisfied: absl-py>=0.4.0 in /usr/local/lib/python3.7/dist-packages (from tensorflow) (1.0.0)\n",
            "Requirement already satisfied: six>=1.12.0 in /usr/local/lib/python3.7/dist-packages (from tensorflow) (1.15.0)\n",
            "Requirement already satisfied: typing-extensions>=3.6.6 in /usr/local/lib/python3.7/dist-packages (from tensorflow) (4.1.1)\n",
            "Requirement already satisfied: grpcio<2.0,>=1.24.3 in /usr/local/lib/python3.7/dist-packages (from tensorflow) (1.44.0)\n",
            "Requirement already satisfied: opt-einsum>=2.3.2 in /usr/local/lib/python3.7/dist-packages (from tensorflow) (3.3.0)\n",
            "Requirement already satisfied: keras<2.9,>=2.8.0rc0 in /usr/local/lib/python3.7/dist-packages (from tensorflow) (2.8.0)\n",
            "Requirement already satisfied: tensorflow-io-gcs-filesystem>=0.23.1 in /usr/local/lib/python3.7/dist-packages (from tensorflow) (0.24.0)\n",
            "Requirement already satisfied: astunparse>=1.6.0 in /usr/local/lib/python3.7/dist-packages (from tensorflow) (1.6.3)\n",
            "Requirement already satisfied: h5py>=2.9.0 in /usr/local/lib/python3.7/dist-packages (from tensorflow) (3.1.0)\n",
            "Requirement already satisfied: keras-preprocessing>=1.1.1 in /usr/local/lib/python3.7/dist-packages (from tensorflow) (1.1.2)\n",
            "Requirement already satisfied: numpy>=1.20 in /usr/local/lib/python3.7/dist-packages (from tensorflow) (1.21.5)\n",
            "Requirement already satisfied: protobuf>=3.9.2 in /usr/local/lib/python3.7/dist-packages (from tensorflow) (3.17.3)\n",
            "Requirement already satisfied: setuptools in /usr/local/lib/python3.7/dist-packages (from tensorflow) (57.4.0)\n",
            "Requirement already satisfied: wrapt>=1.11.0 in /usr/local/lib/python3.7/dist-packages (from tensorflow) (1.14.0)\n",
            "Requirement already satisfied: wheel<1.0,>=0.23.0 in /usr/local/lib/python3.7/dist-packages (from astunparse>=1.6.0->tensorflow) (0.37.1)\n",
            "Requirement already satisfied: cached-property in /usr/local/lib/python3.7/dist-packages (from h5py>=2.9.0->tensorflow) (1.5.2)\n",
            "Requirement already satisfied: tensorboard-plugin-wit>=1.6.0 in /usr/local/lib/python3.7/dist-packages (from tensorboard<2.9,>=2.8->tensorflow) (1.8.1)\n",
            "Requirement already satisfied: markdown>=2.6.8 in /usr/local/lib/python3.7/dist-packages (from tensorboard<2.9,>=2.8->tensorflow) (3.3.6)\n",
            "Requirement already satisfied: requests<3,>=2.21.0 in /usr/local/lib/python3.7/dist-packages (from tensorboard<2.9,>=2.8->tensorflow) (2.23.0)\n",
            "Requirement already satisfied: google-auth-oauthlib<0.5,>=0.4.1 in /usr/local/lib/python3.7/dist-packages (from tensorboard<2.9,>=2.8->tensorflow) (0.4.6)\n",
            "Requirement already satisfied: tensorboard-data-server<0.7.0,>=0.6.0 in /usr/local/lib/python3.7/dist-packages (from tensorboard<2.9,>=2.8->tensorflow) (0.6.1)\n",
            "Requirement already satisfied: werkzeug>=0.11.15 in /usr/local/lib/python3.7/dist-packages (from tensorboard<2.9,>=2.8->tensorflow) (1.0.1)\n",
            "Requirement already satisfied: google-auth<3,>=1.6.3 in /usr/local/lib/python3.7/dist-packages (from tensorboard<2.9,>=2.8->tensorflow) (1.35.0)\n",
            "Requirement already satisfied: rsa<5,>=3.1.4 in /usr/local/lib/python3.7/dist-packages (from google-auth<3,>=1.6.3->tensorboard<2.9,>=2.8->tensorflow) (4.8)\n",
            "Requirement already satisfied: cachetools<5.0,>=2.0.0 in /usr/local/lib/python3.7/dist-packages (from google-auth<3,>=1.6.3->tensorboard<2.9,>=2.8->tensorflow) (4.2.4)\n",
            "Requirement already satisfied: pyasn1-modules>=0.2.1 in /usr/local/lib/python3.7/dist-packages (from google-auth<3,>=1.6.3->tensorboard<2.9,>=2.8->tensorflow) (0.2.8)\n",
            "Requirement already satisfied: requests-oauthlib>=0.7.0 in /usr/local/lib/python3.7/dist-packages (from google-auth-oauthlib<0.5,>=0.4.1->tensorboard<2.9,>=2.8->tensorflow) (1.3.1)\n",
            "Requirement already satisfied: importlib-metadata>=4.4 in /usr/local/lib/python3.7/dist-packages (from markdown>=2.6.8->tensorboard<2.9,>=2.8->tensorflow) (4.11.3)\n",
            "Requirement already satisfied: zipp>=0.5 in /usr/local/lib/python3.7/dist-packages (from importlib-metadata>=4.4->markdown>=2.6.8->tensorboard<2.9,>=2.8->tensorflow) (3.8.0)\n",
            "Requirement already satisfied: pyasn1<0.5.0,>=0.4.6 in /usr/local/lib/python3.7/dist-packages (from pyasn1-modules>=0.2.1->google-auth<3,>=1.6.3->tensorboard<2.9,>=2.8->tensorflow) (0.4.8)\n",
            "Requirement already satisfied: certifi>=2017.4.17 in /usr/local/lib/python3.7/dist-packages (from requests<3,>=2.21.0->tensorboard<2.9,>=2.8->tensorflow) (2021.10.8)\n",
            "Requirement already satisfied: chardet<4,>=3.0.2 in /usr/local/lib/python3.7/dist-packages (from requests<3,>=2.21.0->tensorboard<2.9,>=2.8->tensorflow) (3.0.4)\n",
            "Requirement already satisfied: urllib3!=1.25.0,!=1.25.1,<1.26,>=1.21.1 in /usr/local/lib/python3.7/dist-packages (from requests<3,>=2.21.0->tensorboard<2.9,>=2.8->tensorflow) (1.24.3)\n",
            "Requirement already satisfied: idna<3,>=2.5 in /usr/local/lib/python3.7/dist-packages (from requests<3,>=2.21.0->tensorboard<2.9,>=2.8->tensorflow) (2.10)\n",
            "Requirement already satisfied: oauthlib>=3.0.0 in /usr/local/lib/python3.7/dist-packages (from requests-oauthlib>=0.7.0->google-auth-oauthlib<0.5,>=0.4.1->tensorboard<2.9,>=2.8->tensorflow) (3.2.0)\n",
            "Installing collected packages: tf-estimator-nightly\n",
            "Successfully installed tf-estimator-nightly-2.8.0.dev2021122109\n"
          ]
        }
      ]
    },
    {
      "cell_type": "markdown",
      "source": [
        "Следующая команда покажет название видеокарты, подходящей для использования при обучении нейронок (если такой нет - ничего не выведет)"
      ],
      "metadata": {
        "id": "G0p94f4w7vgo"
      }
    },
    {
      "cell_type": "code",
      "source": [
        "import tensorflow as tf\n",
        "tf.config.list_physical_devices('GPU')"
      ],
      "metadata": {
        "colab": {
          "base_uri": "https://localhost:8080/"
        },
        "id": "HDbqgx-kEQ6h",
        "outputId": "8b851b1e-6629-47a7-aaa0-afb299ef2211"
      },
      "execution_count": 3,
      "outputs": [
        {
          "output_type": "execute_result",
          "data": {
            "text/plain": [
              "[PhysicalDevice(name='/physical_device:GPU:0', device_type='GPU')]"
            ]
          },
          "metadata": {},
          "execution_count": 3
        }
      ]
    },
    {
      "cell_type": "markdown",
      "source": [
        "Видим, что видеокарта не подключена. Работая в Google Colab, мы можем подключить видеокарту с небольшим запасом бесплатного времени использования, выполнив несколько нехитрых действий. Для нашего задания необязательно использовать видеокарту, но потренироваться в ее использовании будет полезно.\n",
        "\n",
        "Для того, чтобы подключить ядро с видеокартой, нам понадобится переключить окружение питона. Для этого нажмите `Среда выполнения -> Сменить среду выполнения` и там выберите Аппаратный ускоритель GPU.\n",
        "![изображение.png](data:image/png;base64,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)\n",
        "\n",
        "Теперь повторим код из предыдущей ячейки и увидим, что нам доступна видеокарта."
      ],
      "metadata": {
        "id": "_sjHqHUFA94a"
      }
    },
    {
      "cell_type": "code",
      "source": [
        "import tensorflow as tf\n",
        "tf.config.list_physical_devices('GPU')"
      ],
      "metadata": {
        "colab": {
          "base_uri": "https://localhost:8080/"
        },
        "id": "k3-464RXA5z9",
        "outputId": "6adb0b59-ef5d-4c46-cfe2-4aa2cef87070"
      },
      "execution_count": 4,
      "outputs": [
        {
          "output_type": "execute_result",
          "data": {
            "text/plain": [
              "[PhysicalDevice(name='/physical_device:GPU:0', device_type='GPU')]"
            ]
          },
          "metadata": {},
          "execution_count": 4
        }
      ]
    },
    {
      "cell_type": "markdown",
      "source": [
        "Уточним, используется ли сейас графический процессор:"
      ],
      "metadata": {
        "id": "zM7X8nDzW8nv"
      }
    },
    {
      "cell_type": "code",
      "source": [
        "tf.test.gpu_device_name()"
      ],
      "metadata": {
        "colab": {
          "base_uri": "https://localhost:8080/",
          "height": 35
        },
        "id": "r7CVqAv8XC35",
        "outputId": "9342cf46-2816-4798-db49-32c91aa8775a"
      },
      "execution_count": 5,
      "outputs": [
        {
          "output_type": "execute_result",
          "data": {
            "text/plain": [
              "'/device:GPU:0'"
            ],
            "application/vnd.google.colaboratory.intrinsic+json": {
              "type": "string"
            }
          },
          "metadata": {},
          "execution_count": 5
        }
      ]
    },
    {
      "cell_type": "markdown",
      "source": [
        "Если предыдущая ячейка вывела что-то вроде `/device:GPU:0`, то tensorflow использует видеокарту. Теперь начнем работу над нейронкой."
      ],
      "metadata": {
        "id": "YoiIKpzKYH5X"
      }
    },
    {
      "cell_type": "code",
      "source": [
        "import numpy as np\n",
        "np.random.seed(123)  # для воспроизводимости\n",
        "from keras.models import Sequential                           # Sequential - это базовый класс нейронки в керасе\n",
        "from keras.layers import Dense, Dropout, Activation, Flatten  # дальше импортируем классы слоев\n",
        "from keras.layers import Convolution2D, MaxPooling2D          # еще немного слоев, которые предназначены именно для работы с картинками\n",
        "from keras.utils import np_utils\n",
        "from keras.datasets import mnist                              # а это - классический набор картинок с рукописными цифрами, которые мы будем\n",
        "                                                              # классифицировать в нашем примере"
      ],
      "metadata": {
        "id": "9Lyo0X7ZEPfC"
      },
      "execution_count": 6,
      "outputs": []
    },
    {
      "cell_type": "markdown",
      "source": [
        "# Подготовка к выполнению заданий\n",
        "\n",
        "Датасет с картинками достаточно большой, поэтому было бы слишком накладно хранить его в гите. Скачаем архив с фотографиями для задания и разархивируем его в нашу рабочую папку."
      ],
      "metadata": {
        "id": "eg1N57R44hoH"
      }
    },
    {
      "cell_type": "code",
      "source": [
        "# загрузим архив с фотографиями во временную папку /tmp/ и назовем его dataset.zip\n",
        "\n",
        "!wget --no-check-certificate \\\n",
        "    https://storage.googleapis.com/mledu-datasets/cats_and_dogs_filtered.zip \\\n",
        "    -O /tmp/dataset.zip"
      ],
      "metadata": {
        "colab": {
          "base_uri": "https://localhost:8080/"
        },
        "id": "kPFmby3L41Xy",
        "outputId": "dc1bd1e5-478b-4844-9382-29b10f365399"
      },
      "execution_count": 7,
      "outputs": [
        {
          "output_type": "stream",
          "name": "stdout",
          "text": [
            "--2022-04-18 14:57:50--  https://storage.googleapis.com/mledu-datasets/cats_and_dogs_filtered.zip\n",
            "Resolving storage.googleapis.com (storage.googleapis.com)... 74.125.69.128, 173.194.193.128, 142.250.152.128, ...\n",
            "Connecting to storage.googleapis.com (storage.googleapis.com)|74.125.69.128|:443... connected.\n",
            "HTTP request sent, awaiting response... 200 OK\n",
            "Length: 68606236 (65M) [application/zip]\n",
            "Saving to: ‘/tmp/dataset.zip’\n",
            "\n",
            "/tmp/dataset.zip    100%[===================>]  65.43M   228MB/s    in 0.3s    \n",
            "\n",
            "2022-04-18 14:57:51 (228 MB/s) - ‘/tmp/dataset.zip’ saved [68606236/68606236]\n",
            "\n"
          ]
        }
      ]
    },
    {
      "cell_type": "code",
      "source": [
        "import shutil\n",
        "import zipfile\n",
        "\n",
        "local_zip = '/tmp/dataset.zip'\n",
        "zip_ref = zipfile.ZipFile(local_zip, 'r')\n",
        "zip_ref.extractall(\"/tmp/dataset\")\n",
        "!mkdir dataset\n",
        "!mv /tmp/dataset/cats_and_dogs_filtered/train/* dataset/\n",
        "!mv /tmp/dataset/cats_and_dogs_filtered/validation/cats/* dataset/cats/\n",
        "!mv /tmp/dataset/cats_and_dogs_filtered/validation/dogs/* dataset/dogs/\n",
        "!rm -rf /tmp/dataset\n",
        "!rm -rf /tmp/dataset.zip"
      ],
      "metadata": {
        "id": "ho7uquYi5FNn"
      },
      "execution_count": 8,
      "outputs": []
    },
    {
      "cell_type": "markdown",
      "source": [
        "# Задание 1. Готовим обучающую выборку\n",
        "\n",
        "Нам требуется подготовить модель, которая разделяет фотографии на две категории, в зависимости от того, что на них нарисовано. Будем использовать сверточную нейросеть для этого.\n",
        "\n",
        "У нас есть набор фотографий кошек и собак. Подготовим нейронку, которая будет уметь классифицировать фотографии на те, на которых изображена кошка, и те, на которых изображена собака.\n",
        "\n",
        "Структура папки с фотографиями следующая:\n",
        "```\n",
        "dataset\n",
        "|- cats\n",
        "|- dogs\n",
        "```\n",
        "Разделите изображения на тренировочную и тестовую выборки в соотношении 80/20. Сохраните их в соответствии со следующей структурой папок:\n",
        "```\n",
        "dataset/animals\n",
        "|- train\n",
        "|  |- cats\n",
        "|  |- dogs\n",
        "|\n",
        "|- test\n",
        "|  |- cats\n",
        "|  |- dogs\n",
        "```"
      ],
      "metadata": {
        "id": "1zqPK6cnupdM"
      }
    },
    {
      "cell_type": "code",
      "source": [
        "!ls dataset"
      ],
      "metadata": {
        "colab": {
          "base_uri": "https://localhost:8080/"
        },
        "id": "lXEPFv91aFbg",
        "outputId": "f75e4b1d-6126-4007-9687-f9adff9e3575"
      },
      "execution_count": 9,
      "outputs": [
        {
          "output_type": "stream",
          "name": "stdout",
          "text": [
            "cats  dogs\n"
          ]
        }
      ]
    },
    {
      "cell_type": "markdown",
      "source": [
        "В этой работе мы будем использовать нейросеть определенного типа - VGG19 с весами ResNet, параметры изображений для которой зададим заранее."
      ],
      "metadata": {
        "id": "CNIk4LTEUUst"
      }
    },
    {
      "cell_type": "code",
      "source": [
        "import numpy as np\n",
        "np.random.seed(123)  # для воспроизводимости\n",
        "from keras.models import Sequential\n",
        "from keras.layers import ZeroPadding2D, Convolution2D, MaxPooling2D, Dropout, Flatten, Activation, Dense\n",
        "from keras.utils import np_utils\n",
        "from keras.preprocessing.image import img_to_array\n",
        "from keras.applications import imagenet_utils\n",
        "from keras.preprocessing.image import ImageDataGenerator"
      ],
      "metadata": {
        "id": "R_l0YzpOU8WV"
      },
      "execution_count": 10,
      "outputs": []
    },
    {
      "cell_type": "code",
      "source": [
        "import os\n",
        "\n",
        "# размер для ResNet'a\n",
        "img_width, img_height = 224, 224\n",
        "\n",
        "# корневая папка\n",
        "root_dir = '/content/dataset'  # введите сюда адрес корневой папки\n",
        "# os.path.join(path1[, path2[, ...]]) соединяет пути с учётом особенностей операционной системы\n",
        "# папка с тренировочными картинками\n",
        "train_dir = os.path.join(root_dir, 'animals', 'train')\n",
        "# try:\n",
        "#   os.stat(train_dir)\n",
        "# except:\n",
        "#   os.makedirs(train_dir)\n",
        "# и папка с тестовыми\n",
        "test_dir = os.path.join(root_dir, 'animals', 'test')\n",
        "# try:\n",
        "#   os.stat(test_dir)\n",
        "# except:\n",
        "#   os.makedirs(test_dir)\n",
        "# размер батча\n",
        "batch_size = 16"
      ],
      "metadata": {
        "id": "MlGaqKMhUfRY"
      },
      "execution_count": 11,
      "outputs": []
    },
    {
      "cell_type": "code",
      "source": [
        "# if not os.path.exists('/content/dataset/animals/train/cats'):\n",
        "#     train_cats = os.makedirs('/content/dataset/animals/train/cats')\n",
        "# if not os.path.exists('/content/dataset/animals/train/dogs'):\n",
        "#     train_dogs = os.makedirs('/content/dataset/animals/train/dogs')\n",
        "# if not os.path.exists('/content/dataset/animals/test/cats'):\n",
        "#     train_cats = os.makedirs('/content/dataset/animals/test/cats')\n",
        "# if not os.path.exists('/content/dataset/animals/test/dogs'):\n",
        "#     train_dogs = os.makedirs('/content/dataset/animals/test/dogs')"
      ],
      "metadata": {
        "id": "_k4a-pn1gx1W"
      },
      "execution_count": 12,
      "outputs": []
    },
    {
      "cell_type": "markdown",
      "source": [
        "Сымитируем ситуацию, когда нам регулярно приходят новые изображения, и нам нужно дообучать модель. Поэтому для раскладывания картинок по папкам нужно написать функцию. Очищать исходные папки не нужно."
      ],
      "metadata": {
        "id": "02o6xJknaT4I"
      }
    },
    {
      "cell_type": "code",
      "source": [
        "def train_test_split_images_dir(root_folder: str, folder_name: str):\n",
        "    src = root_folder + '/' + folder_name\n",
        "    list_f = os.listdir(src)\n",
        "    dst_train = root_folder + '/animals/train/' + folder_name\n",
        "    dst_test = root_folder + '/animals/test/' + folder_name\n",
        "\n",
        "    if not os.path.exists(dst_train):\n",
        "      os.makedirs(dst_train)\n",
        "    if not os.path.exists(dst_test):\n",
        "      os.makedirs(dst_test)\n",
        "      \n",
        "    for i, file_ in enumerate(list_f):\n",
        "      if i < len(list_f) * 0.8:\n",
        "        shutil.copyfile(src + '/' + file_, dst_train + '/' + file_)\n",
        "      else:\n",
        "        shutil.copyfile(src + '/' + file_, dst_test + '/' + file_)\n",
        "\n",
        "def train_test_split_images(root_folder: str):\n",
        "    \"\"\"функция принимает аргумент - адрес корневой папку с изображениями,\n",
        "    берет изображения из подпапок этой папки и раскладывает по папкам\n",
        "    из описания задания\"\"\"\n",
        "    # решение задания 1\n",
        "\n",
        "    if os.path.exists(root_folder + '/animals'):\n",
        "        shutil.rmtree(root_folder + '/animals')\n",
        "    list_d = os.listdir(root_folder)\n",
        "    if not os.path.exists(root_folder + '/animals'):\n",
        "        os.makedirs(root_folder + '/animals')\n",
        "    if not os.path.exists(root_folder + '/animals/train'):\n",
        "        os.makedirs(root_folder + '/animals/train')\n",
        "    if not os.path.exists(root_folder + '/animals/test'):\n",
        "        os.makedirs(root_folder + '/animals/test')\n",
        "\n",
        "    for dir in list_d:\n",
        "        if (os.path.isdir(root_folder + '/' + dir)):\n",
        "            train_test_split_images_dir(root_folder, dir)"
      ],
      "metadata": {
        "id": "pQ7RV8pIMI1Z"
      },
      "execution_count": 13,
      "outputs": []
    },
    {
      "cell_type": "code",
      "source": [
        "train_test_split_images('/content/dataset')"
      ],
      "metadata": {
        "id": "zDcJ_oz4gUV9"
      },
      "execution_count": 14,
      "outputs": []
    },
    {
      "cell_type": "code",
      "source": [
        "os.listdir('/content/dataset/animals')"
      ],
      "metadata": {
        "colab": {
          "base_uri": "https://localhost:8080/"
        },
        "id": "HINfECahaRhw",
        "outputId": "426309fa-362c-4789-ad08-0dc22c5d0480"
      },
      "execution_count": 15,
      "outputs": [
        {
          "output_type": "execute_result",
          "data": {
            "text/plain": [
              "['train', 'test']"
            ]
          },
          "metadata": {},
          "execution_count": 15
        }
      ]
    },
    {
      "cell_type": "markdown",
      "source": [
        "В фотографиях, с которыми придется иметь дело нейросети, кошки и собаки могут быть абсолютно разные, сфотографированные под разными углами и с разной степенью приближения. Имея конечную тренировочную выборку, мы можем ее расширить, поворачивая и приближая имеющиеся изображения. В этом нам поможет класс [ImageDataGenerator](https://www.tensorflow.org/api_docs/python/tf/keras/preprocessing/image/ImageDataGenerator)"
      ],
      "metadata": {
        "id": "rnxdCmV-WqDb"
      }
    },
    {
      "cell_type": "code",
      "source": [
        "train_datagen = ImageDataGenerator(\n",
        "    rescale=1. / 255,  # приведем значения пикселей к 0-1\n",
        "    shear_range=0.2,   # максимальный угол поворота изображений\n",
        "    zoom_range=0.2,    # максимальное приближение изображений\n",
        "    horizontal_flip=True)  # используем повороты изображений для обогащения обучающей выборки\n",
        "\n",
        "test_datagen = ImageDataGenerator(rescale=1. / 255)  # замер качества мы должны проводить на оригинальных изображениях, \n",
        "                                                     # поэтому тестовую выборку мы не будем вращать и приближать"
      ],
      "metadata": {
        "id": "iiiXr5KMXLAI"
      },
      "execution_count": 16,
      "outputs": []
    },
    {
      "cell_type": "markdown",
      "source": [
        "Далее считаем изображения из папки, приведя их к тому размеру, с которым работает сеть VGG19. Кстати говоря, преимущество ImageDataGenerator'а в том, что картинки, разложенные по подпапкам, автоматически считаются объектами разных классов."
      ],
      "metadata": {
        "id": "q6EDmwh0ZJgn"
      }
    },
    {
      "cell_type": "code",
      "source": [
        "train_generator = train_datagen.flow_from_directory(\n",
        "    train_dir,\n",
        "    target_size=(img_width, img_height),\n",
        "    batch_size=batch_size,\n",
        "    class_mode='categorical')\n",
        "\n",
        "# создайте генератор для тестовой выборки\n",
        "test_generator =  test_datagen.flow_from_directory(\n",
        "    test_dir,\n",
        "    target_size=(img_width, img_height),\n",
        "    batch_size=batch_size,\n",
        "    class_mode='categorical')"
      ],
      "metadata": {
        "id": "JyhVMmJkYC_L",
        "colab": {
          "base_uri": "https://localhost:8080/"
        },
        "outputId": "5b832272-e0a5-4965-c7fe-13cf0a8afb13"
      },
      "execution_count": 17,
      "outputs": [
        {
          "output_type": "stream",
          "name": "stdout",
          "text": [
            "Found 2400 images belonging to 2 classes.\n",
            "Found 600 images belonging to 2 classes.\n"
          ]
        }
      ]
    },
    {
      "cell_type": "markdown",
      "source": [
        "# Задание 2. Переиспользование топологий нейронных сетей\n",
        "\n",
        "Построим модель. Ваша задача - найти в интернете архитектуру VGG19 и описать нейросеть по этой архитектуре через keras. Рекомендую ориентироваться на архитектуру, описанную в официальном репозитории кераса на github.com. Ссылку на него здесь не приведена сознательно, поскольку большая часть работы программиста заключается в умении гуглить, и этот навык лучше тренировать сразу."
      ],
      "metadata": {
        "id": "712LXZZFRJjI"
      }
    },
    {
      "cell_type": "code",
      "source": [
        "from keras.models import Sequential\n",
        "from keras.layers.core import Flatten, Dense, Dropout\n",
        "from keras.layers.convolutional import Convolution2D, MaxPooling2D, ZeroPadding2D\n",
        "from keras.utils import data_utils\n",
        "import cv2, numpy as np\n",
        "from keras.utils import data_utils\n",
        "\n",
        "model = Sequential()\n",
        "# продолжайте построение сети - задание 2\n",
        "\n",
        "model.add(Convolution2D(64, 3, 1, activation='relu', input_shape=(224,224,3)))\n",
        "model.add(ZeroPadding2D((1,1)))\n",
        "model.add(Convolution2D(64, 3, 1, activation='relu'))\n",
        "model.add(ZeroPadding2D((1,1)))\n",
        "model.add(MaxPooling2D(pool_size=(2,2), strides=2, padding='same', name='block1_pool'))\n",
        "\n",
        "model.add(ZeroPadding2D((1,1)))\n",
        "model.add(Convolution2D(128, 3, 1, activation='relu'))\n",
        "model.add(ZeroPadding2D((1,1)))\n",
        "model.add(Convolution2D(128, 3, 1, activation='relu'))\n",
        "model.add(MaxPooling2D(pool_size=(2,2), strides=(2,2), padding='same', name='block2_pool'))\n",
        "\n",
        "model.add(ZeroPadding2D((1,1)))\n",
        "model.add(Convolution2D(256, 3, 1, activation='relu'))\n",
        "model.add(ZeroPadding2D((1,1)))\n",
        "model.add(Convolution2D(256, 3, 1, activation='relu'))\n",
        "model.add(ZeroPadding2D((1,1)))\n",
        "model.add(Convolution2D(256, 3, 1, activation='relu'))\n",
        "model.add(ZeroPadding2D((1,1)))\n",
        "model.add(Convolution2D(256, 3, 1, activation='relu'))\n",
        "model.add(MaxPooling2D(pool_size=(2,2), strides=(2,2), padding='same', name='block3_pool'))\n",
        "\n",
        "model.add(ZeroPadding2D((1,1)))\n",
        "model.add(Convolution2D(512, 3, 1, activation='relu'))\n",
        "model.add(ZeroPadding2D((1,1)))\n",
        "model.add(Convolution2D(512, 3, 1, activation='relu'))\n",
        "model.add(ZeroPadding2D((1,1)))\n",
        "model.add(Convolution2D(512, 3, 1, activation='relu'))\n",
        "model.add(ZeroPadding2D((1,1)))\n",
        "model.add(Convolution2D(512, 3, 1, activation='relu'))\n",
        "model.add(MaxPooling2D(pool_size=(2,2), strides=(2,2), padding='same', name='block4_pool'))\n",
        "\n",
        "model.add(ZeroPadding2D((1,1)))\n",
        "model.add(Convolution2D(512, 3, 1, activation='relu'))\n",
        "model.add(ZeroPadding2D((1,1)))\n",
        "model.add(Convolution2D(512, 3, 1, activation='relu'))\n",
        "model.add(ZeroPadding2D((1,1)))\n",
        "model.add(Convolution2D(512, 3, 1, activation='relu'))\n",
        "model.add(ZeroPadding2D((1,1)))\n",
        "model.add(Convolution2D(512, 3, 1, activation='relu'))\n",
        "model.add(MaxPooling2D(pool_size=(2,2), strides=(2,2), padding='same', name='block5_pool'))\n",
        "\n",
        "model.add(Flatten(name='flatten'))\n",
        "model.add(Dense(4096, activation='relu', name='fc1'))\n",
        "model.add(Dropout(0.5))\n",
        "model.add(Dense(4096, activation='relu', name='fc2'))\n",
        "model.add(Dropout(0.5))\n",
        "model.add(Dense(1000, activation='softmax', name='predictions'))\n",
        "\n",
        "model.summary()"
      ],
      "metadata": {
        "colab": {
          "base_uri": "https://localhost:8080/"
        },
        "outputId": "4d8496e5-4d41-4ffc-dd84-ff69865ab351",
        "id": "qR4TPpgkgqXw"
      },
      "execution_count": 18,
      "outputs": [
        {
          "output_type": "stream",
          "name": "stdout",
          "text": [
            "Model: \"sequential\"\n",
            "_________________________________________________________________\n",
            " Layer (type)                Output Shape              Param #   \n",
            "=================================================================\n",
            " conv2d (Conv2D)             (None, 222, 222, 64)      1792      \n",
            "                                                                 \n",
            " zero_padding2d (ZeroPadding  (None, 224, 224, 64)     0         \n",
            " 2D)                                                             \n",
            "                                                                 \n",
            " conv2d_1 (Conv2D)           (None, 222, 222, 64)      36928     \n",
            "                                                                 \n",
            " zero_padding2d_1 (ZeroPaddi  (None, 224, 224, 64)     0         \n",
            " ng2D)                                                           \n",
            "                                                                 \n",
            " block1_pool (MaxPooling2D)  (None, 112, 112, 64)      0         \n",
            "                                                                 \n",
            " zero_padding2d_2 (ZeroPaddi  (None, 114, 114, 64)     0         \n",
            " ng2D)                                                           \n",
            "                                                                 \n",
            " conv2d_2 (Conv2D)           (None, 112, 112, 128)     73856     \n",
            "                                                                 \n",
            " zero_padding2d_3 (ZeroPaddi  (None, 114, 114, 128)    0         \n",
            " ng2D)                                                           \n",
            "                                                                 \n",
            " conv2d_3 (Conv2D)           (None, 112, 112, 128)     147584    \n",
            "                                                                 \n",
            " block2_pool (MaxPooling2D)  (None, 56, 56, 128)       0         \n",
            "                                                                 \n",
            " zero_padding2d_4 (ZeroPaddi  (None, 58, 58, 128)      0         \n",
            " ng2D)                                                           \n",
            "                                                                 \n",
            " conv2d_4 (Conv2D)           (None, 56, 56, 256)       295168    \n",
            "                                                                 \n",
            " zero_padding2d_5 (ZeroPaddi  (None, 58, 58, 256)      0         \n",
            " ng2D)                                                           \n",
            "                                                                 \n",
            " conv2d_5 (Conv2D)           (None, 56, 56, 256)       590080    \n",
            "                                                                 \n",
            " zero_padding2d_6 (ZeroPaddi  (None, 58, 58, 256)      0         \n",
            " ng2D)                                                           \n",
            "                                                                 \n",
            " conv2d_6 (Conv2D)           (None, 56, 56, 256)       590080    \n",
            "                                                                 \n",
            " zero_padding2d_7 (ZeroPaddi  (None, 58, 58, 256)      0         \n",
            " ng2D)                                                           \n",
            "                                                                 \n",
            " conv2d_7 (Conv2D)           (None, 56, 56, 256)       590080    \n",
            "                                                                 \n",
            " block3_pool (MaxPooling2D)  (None, 28, 28, 256)       0         \n",
            "                                                                 \n",
            " zero_padding2d_8 (ZeroPaddi  (None, 30, 30, 256)      0         \n",
            " ng2D)                                                           \n",
            "                                                                 \n",
            " conv2d_8 (Conv2D)           (None, 28, 28, 512)       1180160   \n",
            "                                                                 \n",
            " zero_padding2d_9 (ZeroPaddi  (None, 30, 30, 512)      0         \n",
            " ng2D)                                                           \n",
            "                                                                 \n",
            " conv2d_9 (Conv2D)           (None, 28, 28, 512)       2359808   \n",
            "                                                                 \n",
            " zero_padding2d_10 (ZeroPadd  (None, 30, 30, 512)      0         \n",
            " ing2D)                                                          \n",
            "                                                                 \n",
            " conv2d_10 (Conv2D)          (None, 28, 28, 512)       2359808   \n",
            "                                                                 \n",
            " zero_padding2d_11 (ZeroPadd  (None, 30, 30, 512)      0         \n",
            " ing2D)                                                          \n",
            "                                                                 \n",
            " conv2d_11 (Conv2D)          (None, 28, 28, 512)       2359808   \n",
            "                                                                 \n",
            " block4_pool (MaxPooling2D)  (None, 14, 14, 512)       0         \n",
            "                                                                 \n",
            " zero_padding2d_12 (ZeroPadd  (None, 16, 16, 512)      0         \n",
            " ing2D)                                                          \n",
            "                                                                 \n",
            " conv2d_12 (Conv2D)          (None, 14, 14, 512)       2359808   \n",
            "                                                                 \n",
            " zero_padding2d_13 (ZeroPadd  (None, 16, 16, 512)      0         \n",
            " ing2D)                                                          \n",
            "                                                                 \n",
            " conv2d_13 (Conv2D)          (None, 14, 14, 512)       2359808   \n",
            "                                                                 \n",
            " zero_padding2d_14 (ZeroPadd  (None, 16, 16, 512)      0         \n",
            " ing2D)                                                          \n",
            "                                                                 \n",
            " conv2d_14 (Conv2D)          (None, 14, 14, 512)       2359808   \n",
            "                                                                 \n",
            " zero_padding2d_15 (ZeroPadd  (None, 16, 16, 512)      0         \n",
            " ing2D)                                                          \n",
            "                                                                 \n",
            " conv2d_15 (Conv2D)          (None, 14, 14, 512)       2359808   \n",
            "                                                                 \n",
            " block5_pool (MaxPooling2D)  (None, 7, 7, 512)         0         \n",
            "                                                                 \n",
            " flatten (Flatten)           (None, 25088)             0         \n",
            "                                                                 \n",
            " fc1 (Dense)                 (None, 4096)              102764544 \n",
            "                                                                 \n",
            " dropout (Dropout)           (None, 4096)              0         \n",
            "                                                                 \n",
            " fc2 (Dense)                 (None, 4096)              16781312  \n",
            "                                                                 \n",
            " dropout_1 (Dropout)         (None, 4096)              0         \n",
            "                                                                 \n",
            " predictions (Dense)         (None, 1000)              4097000   \n",
            "                                                                 \n",
            "=================================================================\n",
            "Total params: 143,667,240\n",
            "Trainable params: 143,667,240\n",
            "Non-trainable params: 0\n",
            "_________________________________________________________________\n"
          ]
        }
      ]
    },
    {
      "cell_type": "code",
      "source": [
        "# !find / -name \"vgg19_weights_tf_dim_ordering_tf_kernels.h5\"\n",
        "# !cp /root/.keras/models/vgg19_weights_tf_dim_ordering_tf_kernels.h5 /content/dataset"
      ],
      "metadata": {
        "id": "-7Gtm1H0g1aT"
      },
      "execution_count": 19,
      "outputs": []
    },
    {
      "cell_type": "code",
      "source": [
        "# def vlg_34():\n",
        "#     from keras import backend\n",
        "#     from keras.applications import imagenet_utils\n",
        "#     from keras.engine import training\n",
        "#     from keras.layers import VersionAwareLayers\n",
        "#     from keras.utils import data_utils\n",
        "#     layers = VersionAwareLayers()\n",
        "#     input_shape = imagenet_utils.obtain_input_shape(\n",
        "#         None,default_size=224,min_size=32,\n",
        "#         data_format=backend.image_data_format(),\n",
        "#         require_flatten=True,weights='imagenet')\n",
        "#     img_input = layers.Input(shape=input_shape)\n",
        "#     x = layers.Conv2D(64, (3, 3), activation='relu', padding='same', name='block1_conv1')(img_input)\n",
        "#     x = layers.Conv2D(64, (3, 3), activation='relu', padding='same', name='block1_conv2')(x)\n",
        "#     x = layers.MaxPooling2D((2, 2), strides=(2, 2), name='block1_pool')(x)\n",
        "#     x = layers.Conv2D(128, (3, 3), activation='relu', padding='same', name='block2_conv1')(x)\n",
        "#     x = layers.Conv2D(128, (3, 3), activation='relu', padding='same', name='block2_conv2')(x)\n",
        "#     x = layers.MaxPooling2D((2, 2), strides=(2, 2), name='block2_pool')(x)\n",
        "#     x = layers.Conv2D(256, (3, 3), activation='relu', padding='same', name='block3_conv1')(x)\n",
        "#     x = layers.Conv2D(256, (3, 3), activation='relu', padding='same', name='block3_conv2')(x)\n",
        "#     x = layers.Conv2D(256, (3, 3), activation='relu', padding='same', name='block3_conv3')(x)\n",
        "#     x = layers.Conv2D(256, (3, 3), activation='relu', padding='same', name='block3_conv4')(x)\n",
        "#     x = layers.MaxPooling2D((2, 2), strides=(2, 2), name='block3_pool')(x)\n",
        "#     x = layers.Conv2D(512, (3, 3), activation='relu', padding='same', name='block4_conv1')(x)\n",
        "#     x = layers.Conv2D(512, (3, 3), activation='relu', padding='same', name='block4_conv2')(x)\n",
        "#     x = layers.Conv2D(512, (3, 3), activation='relu', padding='same', name='block4_conv3')(x)\n",
        "#     x = layers.Conv2D(512, (3, 3), activation='relu', padding='same', name='block4_conv4')(x)\n",
        "#     x = layers.MaxPooling2D((2, 2), strides=(2, 2), name='block4_pool')(x)\n",
        "#     x = layers.Conv2D(512, (3, 3), activation='relu', padding='same', name='block5_conv1')(x)\n",
        "#     x = layers.Conv2D(512, (3, 3), activation='relu', padding='same', name='block5_conv2')(x)\n",
        "#     x = layers.Conv2D(512, (3, 3), activation='relu', padding='same', name='block5_conv3')(x)\n",
        "#     x = layers.Conv2D(512, (3, 3), activation='relu', padding='same', name='block5_conv4')(x)\n",
        "#     x = layers.MaxPooling2D((2, 2), strides=(2, 2), name='block5_pool')(x)\n",
        "#     x = layers.Flatten(name='flatten')(x)\n",
        "#     x = layers.Dense(4096, activation='relu', name='fc1')(x)\n",
        "#     x = layers.Dense(4096, activation='relu', name='fc2')(x)\n",
        "#     imagenet_utils.validate_activation('softmax', 'imagenet')\n",
        "#     x = layers.Dense(1000, activation='softmax',\n",
        "#                         name='predictions')(x)\n",
        "#     model2 = training.Model(img_input, x, name='vgg19')\n",
        "#     model2.load_weights(data_utils.get_file(\n",
        "#             'vgg19_weights_tf_dim_ordering_tf_kernels.h5',\n",
        "#             'https://storage.googleapis.com/tensorflow/keras-applications/'\n",
        "#                 'vgg19/vgg19_weights_tf_dim_ordering_tf_kernels.h5',\n",
        "#             cache_subdir='models',\n",
        "#             file_hash='cbe5617147190e668d6c5d5026f83318'))\n",
        "#     return model2\n",
        "# model = Sequential()\n",
        "# model.add(vlg_34())\n",
        "# model.add(Dense(2, activation='softmax'))\n",
        "# model.compile(optimizer='sgd', loss='categorical_crossentropy',metrics=['accuracy'])\n",
        "# model.save_weights(os.path.join(root_dir,'vgg19_weights_tf_dim_ordering_tf_kernels.h5'))"
      ],
      "metadata": {
        "id": "mL3nVt-4ivs0"
      },
      "execution_count": 20,
      "outputs": []
    },
    {
      "cell_type": "markdown",
      "source": [
        "Подгрузим веса модели, подобранные экспертами до нас. Если на предыдущем этапе вы создали неправильную архитектуру, следующая ячейка упадет с ошибкой."
      ],
      "metadata": {
        "id": "4auVLytCeEdA"
      }
    },
    {
      "cell_type": "code",
      "source": [
        "# model.load_weights(os.path.join(root_dir, 'vgg19_weights_tf_dim_ordering_tf_kernels.h5'))\n",
        "model.load_weights(data_utils.get_file(\n",
        "            'vgg19_weights_tf_dim_ordering_tf_kernels.h5',\n",
        "            'https://storage.googleapis.com/tensorflow/keras-applications/'\n",
        "                'vgg19/vgg19_weights_tf_dim_ordering_tf_kernels.h5',\n",
        "            cache_subdir='models',\n",
        "            file_hash='cbe5617147190e668d6c5d5026f83318'))"
      ],
      "metadata": {
        "id": "Tz39TBG4eDBd",
        "colab": {
          "base_uri": "https://localhost:8080/"
        },
        "outputId": "fa1928ab-1a47-41b6-c3ad-d487021e997f"
      },
      "execution_count": 21,
      "outputs": [
        {
          "output_type": "stream",
          "name": "stdout",
          "text": [
            "Downloading data from https://storage.googleapis.com/tensorflow/keras-applications/vgg19/vgg19_weights_tf_dim_ordering_tf_kernels.h5\n",
            "574717952/574710816 [==============================] - 11s 0us/step\n",
            "574726144/574710816 [==============================] - 11s 0us/step\n"
          ]
        }
      ]
    },
    {
      "cell_type": "markdown",
      "source": [
        "Осталось добавить полносвязный слой из двух нейронов (по количеству наших классов) с функцией активации softmax, чтобы наша модель могла производить бинарную классификацию изображений."
      ],
      "metadata": {
        "id": "Vxu6QQQ2fTuU"
      }
    },
    {
      "cell_type": "code",
      "source": [
        "model.add(Dense(2, activation='softmax'))  # добавьте полносвязный слой, состоящий из двух нейронов, с функцией активации softmax"
      ],
      "metadata": {
        "id": "5Ju2Emvka00H"
      },
      "execution_count": 22,
      "outputs": []
    },
    {
      "cell_type": "markdown",
      "source": [
        "Скомпилируем и обучим сеть. Поскольку данные у нас теперь будут подаваться через генераторы, обучать модель нужно не методом fit, а методом fit_generator."
      ],
      "metadata": {
        "id": "McL0zVveg2cu"
      }
    },
    {
      "cell_type": "code",
      "source": [
        "model.compile(optimizer='sgd', loss='categorical_crossentropy', metrics=['accuracy'])\n",
        "\n",
        "# для примера обучим одну эпоху\n",
        "# model.fit_generator(\n",
        "#     train_generator,\n",
        "#     steps_per_epoch=250 // batch_size,\n",
        "#     epochs=1,\n",
        "#     workers=3)"
      ],
      "metadata": {
        "id": "tjJgKqcig4h3"
      },
      "execution_count": 23,
      "outputs": []
    },
    {
      "cell_type": "code",
      "source": [
        "model.save_weights(os.path.join(root_dir,'vgg19_weights_tf_dim_ordering_tf_kernels.h5'))"
      ],
      "metadata": {
        "id": "BhfBZjnk6jFW"
      },
      "execution_count": 24,
      "outputs": []
    },
    {
      "cell_type": "markdown",
      "source": [
        "# Задание 3. Обучение сети\n",
        "\n",
        "Обучите 20 эпох сети, замеряя качество после каждой эпохи. Постройте график зависимости качества классификации от количества эпох сети. На какой эпохе качество модели превысит 0.45?"
      ],
      "metadata": {
        "id": "9oXNhkrIhUp6"
      }
    },
    {
      "cell_type": "code",
      "source": [
        "# решение задания 3\n",
        "\n",
        "scores = {}\n",
        "for n_epochs in range(1, 31):  \n",
        "    model.fit_generator( train_generator, steps_per_epoch=250 // batch_size, epochs=n_epochs, workers=3, initial_epoch=n_epochs-1)\n",
        "    score = model.evaluate(x=test_generator, workers=3, verbose=0)\n",
        "    scores[n_epochs] = score  # сохраним текущее качество, чтобы построить график"
      ],
      "metadata": {
        "id": "FQaM4-nchq2m",
        "colab": {
          "base_uri": "https://localhost:8080/"
        },
        "outputId": "8b13f39f-b53a-4c02-db76-18fab814dcb3"
      },
      "execution_count": 25,
      "outputs": [
        {
          "output_type": "stream",
          "name": "stderr",
          "text": [
            "/usr/local/lib/python3.7/dist-packages/ipykernel_launcher.py:5: UserWarning: `Model.fit_generator` is deprecated and will be removed in a future version. Please use `Model.fit`, which supports generators.\n",
            "  \"\"\"\n"
          ]
        },
        {
          "output_type": "stream",
          "name": "stdout",
          "text": [
            "15/15 [==============================] - 26s 643ms/step - loss: 0.6933 - accuracy: 0.5000\n",
            "Epoch 2/2\n",
            "15/15 [==============================] - 10s 637ms/step - loss: 0.6933 - accuracy: 0.4792\n",
            "Epoch 3/3\n",
            "15/15 [==============================] - 11s 642ms/step - loss: 0.6929 - accuracy: 0.5292\n",
            "Epoch 4/4\n",
            "15/15 [==============================] - 11s 638ms/step - loss: 0.6930 - accuracy: 0.5167\n",
            "Epoch 5/5\n",
            "15/15 [==============================] - 10s 638ms/step - loss: 0.6926 - accuracy: 0.5333\n",
            "Epoch 6/6\n",
            "15/15 [==============================] - 10s 643ms/step - loss: 0.6941 - accuracy: 0.4542\n",
            "Epoch 7/7\n",
            "15/15 [==============================] - 10s 639ms/step - loss: 0.6929 - accuracy: 0.5250\n",
            "Epoch 8/8\n",
            "15/15 [==============================] - 10s 641ms/step - loss: 0.6931 - accuracy: 0.5083\n",
            "Epoch 9/9\n",
            "15/15 [==============================] - 10s 642ms/step - loss: 0.6935 - accuracy: 0.4875\n",
            "Epoch 10/10\n",
            "15/15 [==============================] - 10s 643ms/step - loss: 0.6928 - accuracy: 0.5458\n",
            "Epoch 11/11\n",
            "15/15 [==============================] - 10s 640ms/step - loss: 0.6934 - accuracy: 0.5000\n",
            "Epoch 12/12\n",
            "15/15 [==============================] - 10s 639ms/step - loss: 0.6927 - accuracy: 0.5125\n",
            "Epoch 13/13\n",
            "15/15 [==============================] - 10s 638ms/step - loss: 0.6933 - accuracy: 0.5000\n",
            "Epoch 14/14\n",
            "15/15 [==============================] - 10s 637ms/step - loss: 0.6919 - accuracy: 0.5500\n",
            "Epoch 15/15\n",
            "15/15 [==============================] - 10s 637ms/step - loss: 0.6920 - accuracy: 0.5292\n",
            "Epoch 16/16\n",
            "15/15 [==============================] - 10s 638ms/step - loss: 0.6920 - accuracy: 0.5208\n",
            "Epoch 17/17\n",
            "15/15 [==============================] - 10s 637ms/step - loss: 0.6916 - accuracy: 0.5333\n",
            "Epoch 18/18\n",
            "15/15 [==============================] - 10s 638ms/step - loss: 0.6939 - accuracy: 0.4875\n",
            "Epoch 19/19\n",
            "15/15 [==============================] - 10s 639ms/step - loss: 0.6926 - accuracy: 0.5083\n",
            "Epoch 20/20\n",
            "15/15 [==============================] - 10s 637ms/step - loss: 0.6944 - accuracy: 0.4542\n",
            "Epoch 21/21\n",
            "15/15 [==============================] - 10s 639ms/step - loss: 0.6934 - accuracy: 0.4833\n",
            "Epoch 22/22\n",
            "15/15 [==============================] - 10s 637ms/step - loss: 0.6930 - accuracy: 0.5417\n",
            "Epoch 23/23\n",
            "15/15 [==============================] - 10s 639ms/step - loss: 0.6927 - accuracy: 0.5500\n",
            "Epoch 24/24\n",
            "15/15 [==============================] - 10s 636ms/step - loss: 0.6922 - accuracy: 0.5458\n",
            "Epoch 25/25\n",
            "15/15 [==============================] - 10s 638ms/step - loss: 0.6925 - accuracy: 0.5375\n",
            "Epoch 26/26\n",
            "15/15 [==============================] - 10s 637ms/step - loss: 0.6907 - accuracy: 0.5625\n",
            "Epoch 27/27\n",
            "15/15 [==============================] - 10s 640ms/step - loss: 0.6928 - accuracy: 0.4958\n",
            "Epoch 28/28\n",
            "15/15 [==============================] - 10s 636ms/step - loss: 0.6921 - accuracy: 0.5042\n",
            "Epoch 29/29\n",
            "15/15 [==============================] - 10s 636ms/step - loss: 0.6886 - accuracy: 0.6250\n",
            "Epoch 30/30\n",
            "15/15 [==============================] - 10s 636ms/step - loss: 0.6878 - accuracy: 0.6417\n"
          ]
        }
      ]
    },
    {
      "cell_type": "code",
      "source": [
        "# А теперь посмотрим, как менялось качество в процессе обучения нейронки\n",
        "from matplotlib import pyplot as plt\n",
        "\n",
        "plt.plot(list(scores.keys()), list(map(lambda x: x[1], scores.values())))\n",
        "plt.xlabel(\"Количество эпох\")\n",
        "plt.ylabel(\"Качество классификации\")\n",
        "plt.title(\"Качество классификации цифр в зависимости от количества эпох\")\n",
        "plt.show()"
      ],
      "metadata": {
        "colab": {
          "base_uri": "https://localhost:8080/",
          "height": 295
        },
        "id": "I1BrO_hHm1F7",
        "outputId": "c4a47617-a2da-4c9a-c887-e3e81c2afec0"
      },
      "execution_count": 26,
      "outputs": [
        {
          "output_type": "display_data",
          "data": {
            "text/plain": [
              "<Figure size 432x288 with 1 Axes>"
            ],
            "image/png": "[encoded data removed]"
          },
          "metadata": {
            "needs_background": "light"
          }
        }
      ]
    },
    {
      "cell_type": "code",
      "source": [
        "scores"
      ],
      "metadata": {
        "colab": {
          "base_uri": "https://localhost:8080/"
        },
        "id": "9Pzs2dqJkF3U",
        "outputId": "3edc8417-5315-450c-bbf6-3d3a3013f177"
      },
      "execution_count": 27,
      "outputs": [
        {
          "output_type": "execute_result",
          "data": {
            "text/plain": [
              "{1: [0.6931943297386169, 0.5166666507720947],\n",
              " 2: [0.6931787133216858, 0.5],\n",
              " 3: [0.6931758522987366, 0.5],\n",
              " 4: [0.6931641101837158, 0.5],\n",
              " 5: [0.6932064890861511, 0.5],\n",
              " 6: [0.6930798888206482, 0.5],\n",
              " 7: [0.6930896043777466, 0.5],\n",
              " 8: [0.6930685043334961, 0.5],\n",
              " 9: [0.693016529083252, 0.5],\n",
              " 10: [0.6930658221244812, 0.5],\n",
              " 11: [0.6930328011512756, 0.5],\n",
              " 12: [0.6930128335952759, 0.5],\n",
              " 13: [0.6929686069488525, 0.5],\n",
              " 14: [0.6930538415908813, 0.5],\n",
              " 15: [0.693076491355896, 0.5],\n",
              " 16: [0.6930626034736633, 0.5],\n",
              " 17: [0.6931208372116089, 0.5],\n",
              " 18: [0.6929250955581665, 0.5],\n",
              " 19: [0.6928316950798035, 0.5],\n",
              " 20: [0.6925698518753052, 0.5],\n",
              " 21: [0.6924114227294922, 0.5],\n",
              " 22: [0.6922448873519897, 0.6416666507720947],\n",
              " 23: [0.6921518445014954, 0.5566666722297668],\n",
              " 24: [0.6920218467712402, 0.5016666650772095],\n",
              " 25: [0.6918123364448547, 0.5049999952316284],\n",
              " 26: [0.6918375492095947, 0.5],\n",
              " 27: [0.6911581158638, 0.5066666603088379],\n",
              " 28: [0.6892495155334473, 0.6683333516120911],\n",
              " 29: [0.6861955523490906, 0.6650000214576721],\n",
              " 30: [0.6831286549568176, 0.628333330154419]}"
            ]
          },
          "metadata": {},
          "execution_count": 27
        }
      ]
    },
    {
      "cell_type": "markdown",
      "source": [
        "Точность на всех эпохах выше, чем 0.45"
      ],
      "metadata": {
        "id": "p8Ra-83_njNC"
      }
    },
    {
      "cell_type": "markdown",
      "source": [
        "# Задание 4. Готовые архитектуры нейросетей\n",
        "\n",
        "В keras описаны некоторые популярные архитектуры нейросетей. При этом их можно использовать в качестве одного из слоев другой нейросети. В частности, есть готовый класс, в котором описана VGG19 с теми весами, которые мы подгружали из файла (ImageNet)."
      ],
      "metadata": {
        "id": "HgpJCJjTgTtg"
      }
    },
    {
      "cell_type": "code",
      "source": [
        "from keras.applications.vgg19 import VGG19\n",
        "\n",
        "ready_model = Sequential()\n",
        "ready_model.add(VGG19(weights='imagenet'))\n",
        "ready_model.add(Dense(2, activation='softmax')) \n",
        "ready_model.compile(optimizer='sgd', loss='categorical_crossentropy')"
      ],
      "metadata": {
        "id": "b-VbvRuJa0xK"
      },
      "execution_count": 28,
      "outputs": []
    },
    {
      "cell_type": "markdown",
      "source": [
        "Изучите, какие нейросети также популярны для классификации изображений. Выберите 2 архитектуры, постройте модели с их использованием, выберите наилучшую по качеству на 20 эпохах и лучшую по скорости обучения."
      ],
      "metadata": {
        "id": "CUGHafS6ik3m"
      }
    },
    {
      "cell_type": "code",
      "source": [
        "# решение задания 4\n",
        "from keras.applications.resnet_v2 import ResNet152V2\n",
        "m = Sequential()\n",
        "m.add(ResNet152V2(weights='imagenet'))\n",
        "m.add(Dense(2, activation='softmax')) \n",
        "m.compile(optimizer='sgd', loss='categorical_crossentropy',metrics=['accuracy'])\n",
        "m.save_weights(os.path.join(root_dir,'resnet_weights_tf_dim_ordering_tf_kernels.h5'))"
      ],
      "metadata": {
        "id": "s2pY_k8LjDXj",
        "colab": {
          "base_uri": "https://localhost:8080/"
        },
        "outputId": "16818a8e-71e5-4b4a-cf85-8341e087e04f"
      },
      "execution_count": 29,
      "outputs": [
        {
          "output_type": "stream",
          "name": "stdout",
          "text": [
            "Downloading data from https://storage.googleapis.com/tensorflow/keras-applications/resnet/resnet152v2_weights_tf_dim_ordering_tf_kernels.h5\n",
            "242753536/242745792 [==============================] - 2s 0us/step\n",
            "242761728/242745792 [==============================] - 2s 0us/step\n"
          ]
        }
      ]
    },
    {
      "cell_type": "code",
      "source": [
        "scores2 = {}\n",
        "for n_epochs in range(1, 31):  \n",
        "    m.fit_generator( train_generator, steps_per_epoch=250 // batch_size, epochs=n_epochs, workers=3, initial_epoch=n_epochs-1)\n",
        "    score = m.evaluate(x=test_generator, workers=3, verbose=0)\n",
        "    scores2[n_epochs] = score  # сохраним текущее качество, чтобы построить график"
      ],
      "metadata": {
        "colab": {
          "base_uri": "https://localhost:8080/"
        },
        "id": "2YyrMfeID-Yv",
        "outputId": "b5e0ed75-535b-4bed-f8b2-7e0c8cf08a0e"
      },
      "execution_count": 30,
      "outputs": [
        {
          "output_type": "stream",
          "name": "stderr",
          "text": [
            "/usr/local/lib/python3.7/dist-packages/ipykernel_launcher.py:3: UserWarning: `Model.fit_generator` is deprecated and will be removed in a future version. Please use `Model.fit`, which supports generators.\n",
            "  This is separate from the ipykernel package so we can avoid doing imports until\n"
          ]
        },
        {
          "output_type": "stream",
          "name": "stdout",
          "text": [
            "15/15 [==============================] - 33s 978ms/step - loss: 0.6930 - accuracy: 0.5167\n",
            "Epoch 2/2\n",
            "15/15 [==============================] - 15s 977ms/step - loss: 0.6939 - accuracy: 0.5708\n",
            "Epoch 3/3\n",
            "15/15 [==============================] - 15s 974ms/step - loss: 0.6925 - accuracy: 0.4917\n",
            "Epoch 4/4\n",
            "15/15 [==============================] - 15s 975ms/step - loss: 0.6925 - accuracy: 0.3958\n",
            "Epoch 5/5\n",
            "15/15 [==============================] - 15s 977ms/step - loss: 0.6924 - accuracy: 0.4792\n",
            "Epoch 6/6\n",
            "15/15 [==============================] - 15s 977ms/step - loss: 0.6906 - accuracy: 0.6750\n",
            "Epoch 7/7\n",
            "15/15 [==============================] - 15s 976ms/step - loss: 0.6922 - accuracy: 0.5875\n",
            "Epoch 8/8\n",
            "15/15 [==============================] - 15s 975ms/step - loss: 0.6921 - accuracy: 0.5875\n",
            "Epoch 9/9\n",
            "15/15 [==============================] - 15s 975ms/step - loss: 0.6914 - accuracy: 0.6333\n",
            "Epoch 10/10\n",
            "15/15 [==============================] - 15s 973ms/step - loss: 0.6912 - accuracy: 0.6167\n",
            "Epoch 11/11\n",
            "15/15 [==============================] - 15s 967ms/step - loss: 0.6909 - accuracy: 0.6083\n",
            "Epoch 12/12\n",
            "15/15 [==============================] - 15s 967ms/step - loss: 0.6918 - accuracy: 0.6083\n",
            "Epoch 13/13\n",
            "15/15 [==============================] - 15s 966ms/step - loss: 0.6913 - accuracy: 0.6167\n",
            "Epoch 14/14\n",
            "15/15 [==============================] - 15s 968ms/step - loss: 0.6901 - accuracy: 0.6375\n",
            "Epoch 15/15\n",
            "15/15 [==============================] - 15s 971ms/step - loss: 0.6898 - accuracy: 0.6458\n",
            "Epoch 16/16\n",
            "15/15 [==============================] - 15s 976ms/step - loss: 0.6881 - accuracy: 0.6042\n",
            "Epoch 17/17\n",
            "15/15 [==============================] - 15s 977ms/step - loss: 0.6890 - accuracy: 0.5750\n",
            "Epoch 18/18\n",
            "15/15 [==============================] - 15s 974ms/step - loss: 0.6906 - accuracy: 0.5458\n",
            "Epoch 19/19\n",
            "15/15 [==============================] - 15s 975ms/step - loss: 0.6913 - accuracy: 0.5375\n",
            "Epoch 20/20\n",
            "15/15 [==============================] - 15s 972ms/step - loss: 0.6873 - accuracy: 0.6708\n",
            "Epoch 21/21\n",
            "15/15 [==============================] - 15s 975ms/step - loss: 0.6899 - accuracy: 0.5792\n",
            "Epoch 22/22\n",
            "15/15 [==============================] - 15s 972ms/step - loss: 0.6890 - accuracy: 0.6000\n",
            "Epoch 23/23\n",
            "15/15 [==============================] - 15s 971ms/step - loss: 0.6911 - accuracy: 0.5958\n",
            "Epoch 24/24\n",
            "15/15 [==============================] - 15s 974ms/step - loss: 0.6884 - accuracy: 0.6625\n",
            "Epoch 25/25\n",
            "15/15 [==============================] - 15s 975ms/step - loss: 0.6873 - accuracy: 0.6833\n",
            "Epoch 26/26\n",
            "15/15 [==============================] - 15s 976ms/step - loss: 0.6878 - accuracy: 0.6375\n",
            "Epoch 27/27\n",
            "15/15 [==============================] - 15s 974ms/step - loss: 0.6883 - accuracy: 0.6500\n",
            "Epoch 28/28\n",
            "15/15 [==============================] - 15s 969ms/step - loss: 0.6893 - accuracy: 0.6208\n",
            "Epoch 29/29\n",
            "15/15 [==============================] - 15s 965ms/step - loss: 0.6884 - accuracy: 0.6417\n",
            "Epoch 30/30\n",
            "15/15 [==============================] - 15s 967ms/step - loss: 0.6877 - accuracy: 0.6167\n"
          ]
        }
      ]
    },
    {
      "cell_type": "code",
      "source": [
        "# А теперь посмотрим, как менялось качество в процессе обучения нейронки\n",
        "plt.plot(list(scores2.keys()), list(map(lambda x: x[1], scores2.values())))\n",
        "plt.xlabel(\"Количество эпох\")\n",
        "plt.ylabel(\"Качество классификации\")\n",
        "plt.title(\"Качество классификации цифр в зависимости от количества эпох\")\n",
        "plt.show()"
      ],
      "metadata": {
        "colab": {
          "base_uri": "https://localhost:8080/",
          "height": 295
        },
        "id": "JfSVmINhDy_Q",
        "outputId": "05dde308-1725-4ab1-8d1b-8eb2336bf8d0"
      },
      "execution_count": 32,
      "outputs": [
        {
          "output_type": "display_data",
          "data": {
            "text/plain": [
              "<Figure size 432x288 with 1 Axes>"
            ],
            "image/png": "[encoded data removed]"
          },
          "metadata": {
            "needs_background": "light"
          }
        }
      ]
    },
    {
      "cell_type": "code",
      "source": [
        "scores2"
      ],
      "metadata": {
        "colab": {
          "base_uri": "https://localhost:8080/"
        },
        "id": "Co6xOL9tGjiY",
        "outputId": "97b4228b-2ee9-4b86-cd87-e567c4de4d81"
      },
      "execution_count": 33,
      "outputs": [
        {
          "output_type": "execute_result",
          "data": {
            "text/plain": [
              "{1: [0.6919525861740112, 0.5583333373069763],\n",
              " 2: [0.6918318867683411, 0.5566666722297668],\n",
              " 3: [0.6916103959083557, 0.4233333468437195],\n",
              " 4: [0.691370964050293, 0.49000000953674316],\n",
              " 5: [0.6911011934280396, 0.625],\n",
              " 6: [0.6909691691398621, 0.6399999856948853],\n",
              " 7: [0.6907796859741211, 0.653333306312561],\n",
              " 8: [0.6906322836875916, 0.6600000262260437],\n",
              " 9: [0.690471887588501, 0.6616666913032532],\n",
              " 10: [0.6903359889984131, 0.6366666555404663],\n",
              " 11: [0.6900892853736877, 0.6499999761581421],\n",
              " 12: [0.6899240612983704, 0.6266666650772095],\n",
              " 13: [0.6897445321083069, 0.6516666412353516],\n",
              " 14: [0.6894775629043579, 0.6600000262260437],\n",
              " 15: [0.6892881989479065, 0.6233333349227905],\n",
              " 16: [0.6891324520111084, 0.6033333539962769],\n",
              " 17: [0.688940167427063, 0.5983333587646484],\n",
              " 18: [0.6886616945266724, 0.6116666793823242],\n",
              " 19: [0.6883581280708313, 0.6516666412353516],\n",
              " 20: [0.6882074475288391, 0.6150000095367432],\n",
              " 21: [0.6878955364227295, 0.625],\n",
              " 22: [0.6876583695411682, 0.6266666650772095],\n",
              " 23: [0.6874001026153564, 0.6700000166893005],\n",
              " 24: [0.687211275100708, 0.675000011920929],\n",
              " 25: [0.6869643330574036, 0.6449999809265137],\n",
              " 26: [0.686629056930542, 0.6466666460037231],\n",
              " 27: [0.686412513256073, 0.6483333110809326],\n",
              " 28: [0.6860485076904297, 0.6766666769981384],\n",
              " 29: [0.6857426166534424, 0.653333306312561],\n",
              " 30: [0.6853918433189392, 0.6800000071525574]}"
            ]
          },
          "metadata": {},
          "execution_count": 33
        }
      ]
    },
    {
      "cell_type": "code",
      "source": [
        "from keras.applications.densenet import DenseNet201\n",
        "m2 = Sequential()\n",
        "m2.add(DenseNet201(weights='imagenet'))\n",
        "m2.add(Dense(2, activation='softmax')) \n",
        "m2.compile(optimizer='sgd', loss='categorical_crossentropy',metrics=['accuracy'])\n",
        "m2.save_weights(os.path.join(root_dir,'densenet201_weights_tf_dim_ordering_tf_kernels.h5'))"
      ],
      "metadata": {
        "colab": {
          "base_uri": "https://localhost:8080/"
        },
        "id": "5-BLiB_zMKnR",
        "outputId": "9629d0a5-7d85-45e2-b6b0-f10e1ddf5a54"
      },
      "execution_count": 34,
      "outputs": [
        {
          "output_type": "stream",
          "name": "stdout",
          "text": [
            "Downloading data from https://storage.googleapis.com/tensorflow/keras-applications/densenet/densenet201_weights_tf_dim_ordering_tf_kernels.h5\n",
            "82526208/82524592 [==============================] - 1s 0us/step\n",
            "82534400/82524592 [==============================] - 1s 0us/step\n"
          ]
        }
      ]
    },
    {
      "cell_type": "code",
      "source": [
        "scores3 = {}\n",
        "for n_epochs in range(1, 31):  \n",
        "    m2.fit_generator( train_generator, steps_per_epoch=250 // batch_size, epochs=n_epochs, workers=3, initial_epoch=n_epochs-1)\n",
        "    score = m2.evaluate(x=test_generator, workers=3, verbose=0)\n",
        "    scores3[n_epochs] = score  # сохраним текущее качество, чтобы построить график"
      ],
      "metadata": {
        "colab": {
          "base_uri": "https://localhost:8080/"
        },
        "id": "ylpF1O1xMQE5",
        "outputId": "a91fe0c1-cd1b-42c2-8074-5b6ff1e3cc51"
      },
      "execution_count": 35,
      "outputs": [
        {
          "output_type": "stream",
          "name": "stderr",
          "text": [
            "/usr/local/lib/python3.7/dist-packages/ipykernel_launcher.py:3: UserWarning: `Model.fit_generator` is deprecated and will be removed in a future version. Please use `Model.fit`, which supports generators.\n",
            "  This is separate from the ipykernel package so we can avoid doing imports until\n"
          ]
        },
        {
          "output_type": "stream",
          "name": "stdout",
          "text": [
            "15/15 [==============================] - 36s 667ms/step - loss: 0.6928 - accuracy: 0.4667\n",
            "Epoch 2/2\n",
            "15/15 [==============================] - 10s 665ms/step - loss: 0.6938 - accuracy: 0.4417\n",
            "Epoch 3/3\n",
            "15/15 [==============================] - 10s 662ms/step - loss: 0.6920 - accuracy: 0.5458\n",
            "Epoch 4/4\n",
            "15/15 [==============================] - 10s 661ms/step - loss: 0.6926 - accuracy: 0.5375\n",
            "Epoch 5/5\n",
            "15/15 [==============================] - 10s 661ms/step - loss: 0.6913 - accuracy: 0.5542\n",
            "Epoch 6/6\n",
            "15/15 [==============================] - 10s 662ms/step - loss: 0.6902 - accuracy: 0.5708\n",
            "Epoch 7/7\n",
            "15/15 [==============================] - 11s 664ms/step - loss: 0.6911 - accuracy: 0.5333\n",
            "Epoch 8/8\n",
            "15/15 [==============================] - 11s 662ms/step - loss: 0.6908 - accuracy: 0.5625\n",
            "Epoch 9/9\n",
            "15/15 [==============================] - 10s 662ms/step - loss: 0.6902 - accuracy: 0.5417\n",
            "Epoch 10/10\n",
            "15/15 [==============================] - 10s 664ms/step - loss: 0.6904 - accuracy: 0.5417\n",
            "Epoch 11/11\n",
            "15/15 [==============================] - 10s 663ms/step - loss: 0.6906 - accuracy: 0.5250\n",
            "Epoch 12/12\n",
            "15/15 [==============================] - 10s 662ms/step - loss: 0.6887 - accuracy: 0.5875\n",
            "Epoch 13/13\n",
            "15/15 [==============================] - 10s 664ms/step - loss: 0.6884 - accuracy: 0.5792\n",
            "Epoch 14/14\n",
            "15/15 [==============================] - 11s 664ms/step - loss: 0.6874 - accuracy: 0.5875\n",
            "Epoch 15/15\n",
            "15/15 [==============================] - 10s 662ms/step - loss: 0.6858 - accuracy: 0.6375\n",
            "Epoch 16/16\n",
            "15/15 [==============================] - 10s 660ms/step - loss: 0.6861 - accuracy: 0.6250\n",
            "Epoch 17/17\n",
            "15/15 [==============================] - 10s 662ms/step - loss: 0.6848 - accuracy: 0.5958\n",
            "Epoch 18/18\n",
            "15/15 [==============================] - 10s 661ms/step - loss: 0.6846 - accuracy: 0.6625\n",
            "Epoch 19/19\n",
            "15/15 [==============================] - 10s 659ms/step - loss: 0.6832 - accuracy: 0.7000\n",
            "Epoch 20/20\n",
            "15/15 [==============================] - 10s 663ms/step - loss: 0.6816 - accuracy: 0.7292\n",
            "Epoch 21/21\n",
            "15/15 [==============================] - 10s 659ms/step - loss: 0.6790 - accuracy: 0.7125\n",
            "Epoch 22/22\n",
            "15/15 [==============================] - 10s 656ms/step - loss: 0.6796 - accuracy: 0.6708\n",
            "Epoch 23/23\n",
            "15/15 [==============================] - 10s 655ms/step - loss: 0.6786 - accuracy: 0.7000\n",
            "Epoch 24/24\n",
            "15/15 [==============================] - 10s 653ms/step - loss: 0.6756 - accuracy: 0.7292\n",
            "Epoch 25/25\n",
            "15/15 [==============================] - 10s 655ms/step - loss: 0.6783 - accuracy: 0.6708\n",
            "Epoch 26/26\n",
            "15/15 [==============================] - 10s 658ms/step - loss: 0.6738 - accuracy: 0.7458\n",
            "Epoch 27/27\n",
            "15/15 [==============================] - 10s 659ms/step - loss: 0.6705 - accuracy: 0.7958\n",
            "Epoch 28/28\n",
            "15/15 [==============================] - 10s 655ms/step - loss: 0.6696 - accuracy: 0.7667\n",
            "Epoch 29/29\n",
            "15/15 [==============================] - 10s 656ms/step - loss: 0.6649 - accuracy: 0.8500\n",
            "Epoch 30/30\n",
            "15/15 [==============================] - 10s 656ms/step - loss: 0.6646 - accuracy: 0.8292\n"
          ]
        }
      ]
    },
    {
      "cell_type": "code",
      "source": [
        "# А теперь посмотрим, как менялось качество в процессе обучения нейронки\n",
        "plt.plot(list(scores3.keys()), list(map(lambda x: x[1], scores3.values())))\n",
        "plt.xlabel(\"Количество эпох\")\n",
        "plt.ylabel(\"Качество классификации\")\n",
        "plt.title(\"Качество классификации цифр в зависимости от количества эпох\")\n",
        "plt.show()"
      ],
      "metadata": {
        "colab": {
          "base_uri": "https://localhost:8080/",
          "height": 295
        },
        "id": "WqbDyaD3MfCx",
        "outputId": "2bd26185-82fa-457f-bc8a-d1bec5dc7b2a"
      },
      "execution_count": 36,
      "outputs": [
        {
          "output_type": "display_data",
          "data": {
            "text/plain": [
              "<Figure size 432x288 with 1 Axes>"
            ],
            "image/png": "[encoded data removed]"
          },
          "metadata": {
            "needs_background": "light"
          }
        }
      ]
    },
    {
      "cell_type": "code",
      "source": [
        "scores3"
      ],
      "metadata": {
        "colab": {
          "base_uri": "https://localhost:8080/"
        },
        "id": "wiG0zqmcMi0Y",
        "outputId": "e2b716e9-4ac8-424a-a092-a3beb17ca6c6"
      },
      "execution_count": 37,
      "outputs": [
        {
          "output_type": "execute_result",
          "data": {
            "text/plain": [
              "{1: [0.6843169331550598, 0.7516666650772095],\n",
              " 2: [0.6845118999481201, 0.7283333539962769],\n",
              " 3: [0.6847460865974426, 0.699999988079071],\n",
              " 4: [0.6850433945655823, 0.6349999904632568],\n",
              " 5: [0.6851133108139038, 0.6133333444595337],\n",
              " 6: [0.6851068735122681, 0.6000000238418579],\n",
              " 7: [0.6849016547203064, 0.621666669845581],\n",
              " 8: [0.684799313545227, 0.6100000143051147],\n",
              " 9: [0.6845270395278931, 0.6150000095367432],\n",
              " 10: [0.6843374371528625, 0.6366666555404663],\n",
              " 11: [0.6839643120765686, 0.6600000262260437],\n",
              " 12: [0.6836562752723694, 0.6600000262260437],\n",
              " 13: [0.683199405670166, 0.6333333253860474],\n",
              " 14: [0.6828259825706482, 0.6899999976158142],\n",
              " 15: [0.6822875142097473, 0.6883333325386047],\n",
              " 16: [0.6815117001533508, 0.6499999761581421],\n",
              " 17: [0.6805760860443115, 0.7316666841506958],\n",
              " 18: [0.6793369650840759, 0.7616666555404663],\n",
              " 19: [0.6782270073890686, 0.7733333110809326],\n",
              " 20: [0.6764200329780579, 0.7666666507720947],\n",
              " 21: [0.6751096844673157, 0.7649999856948853],\n",
              " 22: [0.6735400557518005, 0.7649999856948853],\n",
              " 23: [0.6712873578071594, 0.7833333611488342],\n",
              " 24: [0.6690906882286072, 0.7749999761581421],\n",
              " 25: [0.6664937138557434, 0.8116666674613953],\n",
              " 26: [0.6640536785125732, 0.8199999928474426],\n",
              " 27: [0.6607284545898438, 0.8349999785423279],\n",
              " 28: [0.6584979295730591, 0.8516666889190674],\n",
              " 29: [0.654524564743042, 0.8399999737739563],\n",
              " 30: [0.6512817144393921, 0.8700000047683716]}"
            ]
          },
          "metadata": {},
          "execution_count": 37
        }
      ]
    }
  ]
}